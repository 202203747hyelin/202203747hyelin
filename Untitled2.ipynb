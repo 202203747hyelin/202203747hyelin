{
  "nbformat": 4,
  "nbformat_minor": 0,
  "metadata": {
    "colab": {
      "provenance": [],
      "authorship_tag": "ABX9TyPStZ/GWu8fdVEBgnkcp7tt",
      "include_colab_link": true
    },
    "kernelspec": {
      "name": "python3",
      "display_name": "Python 3"
    },
    "language_info": {
      "name": "python"
    }
  },
  "cells": [
    {
      "cell_type": "markdown",
      "metadata": {
        "id": "view-in-github",
        "colab_type": "text"
      },
      "source": [
        "<a href=\"https://colab.research.google.com/github/202203747hyelin/202203747hyelin/blob/main/Untitled2.ipynb\" target=\"_parent\"><img src=\"https://colab.research.google.com/assets/colab-badge.svg\" alt=\"Open In Colab\"/></a>"
      ]
    },
    {
      "cell_type": "code",
      "execution_count": null,
      "metadata": {
        "colab": {
          "base_uri": "https://localhost:8080/"
        },
        "id": "dLb2wT7BNWsF",
        "outputId": "8b32aea9-69cf-4856-c317-27580095146e"
      },
      "outputs": [
        {
          "output_type": "stream",
          "name": "stdout",
          "text": [
            "수:3.6\n",
            "정수로 입력하세요\n"
          ]
        }
      ],
      "source": [
        "##202203747 한혜린\n",
        "\n",
        "X=(input('수:'))\n",
        "if X.isdecimal:\n",
        "  print(\"정수로 입력하세요\")\n",
        "elif X<=30:\n",
        "  for i in range(1, X+1):\n",
        "    Y = \"\"\n",
        "    for j in range(i):\n",
        "      Y+= str(j+1)\n",
        "    print(Y)\n",
        "else:\n",
        "  print(\"너무 많습니다.\")"
      ]
    }
  ]
}