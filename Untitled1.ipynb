{
  "nbformat": 4,
  "nbformat_minor": 0,
  "metadata": {
    "colab": {
      "provenance": [],
      "authorship_tag": "ABX9TyM7nMgAVGLIE4J4Q5lRgvCC",
      "include_colab_link": true
    },
    "kernelspec": {
      "name": "python3",
      "display_name": "Python 3"
    },
    "language_info": {
      "name": "python"
    }
  },
  "cells": [
    {
      "cell_type": "markdown",
      "metadata": {
        "id": "view-in-github",
        "colab_type": "text"
      },
      "source": [
        "<a href=\"https://colab.research.google.com/github/202203747hyelin/202203747hyelin/blob/main/Untitled1.ipynb\" target=\"_parent\"><img src=\"https://colab.research.google.com/assets/colab-badge.svg\" alt=\"Open In Colab\"/></a>"
      ]
    },
    {
      "cell_type": "code",
      "execution_count": null,
      "metadata": {
        "id": "ynXH_dGUG6uE",
        "colab": {
          "base_uri": "https://localhost:8080/"
        },
        "outputId": "75dfecc6-2bf9-4766-ffe9-61ed08f7776f"
      },
      "outputs": [
        {
          "output_type": "stream",
          "name": "stdout",
          "text": [
            "수:54\n",
            "너무 많습니다.\n"
          ]
        }
      ],
      "source": [
        "##202203747 한혜린\n",
        "\n",
        "X=int(input('수:'))\n",
        "if X<=30:\n",
        "  for i in range(1, X+1):\n",
        "    Y = \"\"\n",
        "    for j in range(i):\n",
        "      Y+= str(j+1)\n",
        "    print(Y)\n",
        "else:\n",
        "  print(\"너무 많습니다.\")"
      ]
    },
    {
      "cell_type": "code",
      "source": [],
      "metadata": {
        "id": "762LCGR078Lh"
      },
      "execution_count": null,
      "outputs": []
    }
  ]
}